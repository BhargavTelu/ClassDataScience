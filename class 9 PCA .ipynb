{
 "cells": [
  {
   "cell_type": "code",
   "execution_count": 29,
   "id": "18e9a5ea",
   "metadata": {},
   "outputs": [],
   "source": [
    "import pandas as pd\n",
    "import matplotlib.pyplot as plt\n",
    "import numpy as np\n",
    "import seaborn as sns\n",
    "from sklearn.metrics import classification_report\n",
    "from sklearn.linear_model import LogisticRegression\n",
    "from sklearn.preprocessing import LabelEncoder\n",
    "from sklearn.model_selection import train_test_split\n",
    "from sklearn.decomposition import PCA"
   ]
  },
  {
   "cell_type": "code",
   "execution_count": 30,
   "id": "b40911e4",
   "metadata": {},
   "outputs": [],
   "source": [
    "data=pd.read_csv(\"iris.csv\")"
   ]
  },
  {
   "cell_type": "code",
   "execution_count": 31,
   "id": "db5e6ce9",
   "metadata": {},
   "outputs": [
    {
     "data": {
      "text/html": [
       "<div>\n",
       "<style scoped>\n",
       "    .dataframe tbody tr th:only-of-type {\n",
       "        vertical-align: middle;\n",
       "    }\n",
       "\n",
       "    .dataframe tbody tr th {\n",
       "        vertical-align: top;\n",
       "    }\n",
       "\n",
       "    .dataframe thead th {\n",
       "        text-align: right;\n",
       "    }\n",
       "</style>\n",
       "<table border=\"1\" class=\"dataframe\">\n",
       "  <thead>\n",
       "    <tr style=\"text-align: right;\">\n",
       "      <th></th>\n",
       "      <th>sepal_length</th>\n",
       "      <th>sepal_width</th>\n",
       "      <th>petal_length</th>\n",
       "      <th>petal_width</th>\n",
       "      <th>species</th>\n",
       "    </tr>\n",
       "  </thead>\n",
       "  <tbody>\n",
       "    <tr>\n",
       "      <th>129</th>\n",
       "      <td>7.2</td>\n",
       "      <td>3.0</td>\n",
       "      <td>5.8</td>\n",
       "      <td>1.6</td>\n",
       "      <td>virginica</td>\n",
       "    </tr>\n",
       "    <tr>\n",
       "      <th>146</th>\n",
       "      <td>6.3</td>\n",
       "      <td>2.5</td>\n",
       "      <td>5.0</td>\n",
       "      <td>1.9</td>\n",
       "      <td>virginica</td>\n",
       "    </tr>\n",
       "  </tbody>\n",
       "</table>\n",
       "</div>"
      ],
      "text/plain": [
       "     sepal_length  sepal_width  petal_length  petal_width    species\n",
       "129           7.2          3.0           5.8          1.6  virginica\n",
       "146           6.3          2.5           5.0          1.9  virginica"
      ]
     },
     "execution_count": 31,
     "metadata": {},
     "output_type": "execute_result"
    }
   ],
   "source": [
    "data.sample(2)"
   ]
  },
  {
   "cell_type": "code",
   "execution_count": 57,
   "id": "c5e80713",
   "metadata": {},
   "outputs": [],
   "source": [
    "x=data.iloc[:,:4]\n",
    "x=x-x.mean(axis=0)"
   ]
  },
  {
   "cell_type": "code",
   "execution_count": 58,
   "id": "9b916394",
   "metadata": {},
   "outputs": [
    {
     "data": {
      "text/html": [
       "<div>\n",
       "<style scoped>\n",
       "    .dataframe tbody tr th:only-of-type {\n",
       "        vertical-align: middle;\n",
       "    }\n",
       "\n",
       "    .dataframe tbody tr th {\n",
       "        vertical-align: top;\n",
       "    }\n",
       "\n",
       "    .dataframe thead th {\n",
       "        text-align: right;\n",
       "    }\n",
       "</style>\n",
       "<table border=\"1\" class=\"dataframe\">\n",
       "  <thead>\n",
       "    <tr style=\"text-align: right;\">\n",
       "      <th></th>\n",
       "      <th>sepal_length</th>\n",
       "      <th>sepal_width</th>\n",
       "      <th>petal_length</th>\n",
       "      <th>petal_width</th>\n",
       "    </tr>\n",
       "  </thead>\n",
       "  <tbody>\n",
       "    <tr>\n",
       "      <th>13</th>\n",
       "      <td>-1.543333</td>\n",
       "      <td>-0.057333</td>\n",
       "      <td>-2.658</td>\n",
       "      <td>-1.099333</td>\n",
       "    </tr>\n",
       "    <tr>\n",
       "      <th>96</th>\n",
       "      <td>-0.143333</td>\n",
       "      <td>-0.157333</td>\n",
       "      <td>0.442</td>\n",
       "      <td>0.100667</td>\n",
       "    </tr>\n",
       "  </tbody>\n",
       "</table>\n",
       "</div>"
      ],
      "text/plain": [
       "    sepal_length  sepal_width  petal_length  petal_width\n",
       "13     -1.543333    -0.057333        -2.658    -1.099333\n",
       "96     -0.143333    -0.157333         0.442     0.100667"
      ]
     },
     "execution_count": 58,
     "metadata": {},
     "output_type": "execute_result"
    }
   ],
   "source": [
    "x.sample(2)"
   ]
  },
  {
   "cell_type": "code",
   "execution_count": 6,
   "id": "89530c61",
   "metadata": {},
   "outputs": [],
   "source": [
    "xT=(np.transpose(x))"
   ]
  },
  {
   "cell_type": "code",
   "execution_count": 7,
   "id": "efed262a",
   "metadata": {},
   "outputs": [
    {
     "data": {
      "text/plain": [
       "(4, 150)"
      ]
     },
     "execution_count": 7,
     "metadata": {},
     "output_type": "execute_result"
    }
   ],
   "source": [
    "xT.shape"
   ]
  },
  {
   "cell_type": "code",
   "execution_count": 8,
   "id": "3ccc6257",
   "metadata": {},
   "outputs": [
    {
     "name": "stderr",
     "output_type": "stream",
     "text": [
      "C:\\Users\\Administrator\\AppData\\Local\\Temp\\ipykernel_21216\\2107696773.py:1: FutureWarning: Calling a ufunc on non-aligned DataFrames (or DataFrame/Series combination). Currently, the indices are ignored and the result takes the index/columns of the first DataFrame. In the future , the DataFrames/Series will be aligned before applying the ufunc.\n",
      "Convert one of the arguments to a NumPy array (eg 'ufunc(df1, np.asarray(df2)') to keep the current behaviour, or align manually (eg 'df1, df2 = df1.align(df2)') before passing to the ufunc to obtain the future behaviour and silence this warning.\n",
      "  finalmat=np.matmul(xT,x)\n"
     ]
    }
   ],
   "source": [
    "finalmat=np.matmul(xT,x)"
   ]
  },
  {
   "cell_type": "code",
   "execution_count": 9,
   "id": "9f4668dd",
   "metadata": {},
   "outputs": [
    {
     "data": {
      "text/html": [
       "<div>\n",
       "<style scoped>\n",
       "    .dataframe tbody tr th:only-of-type {\n",
       "        vertical-align: middle;\n",
       "    }\n",
       "\n",
       "    .dataframe tbody tr th {\n",
       "        vertical-align: top;\n",
       "    }\n",
       "\n",
       "    .dataframe thead th {\n",
       "        text-align: right;\n",
       "    }\n",
       "</style>\n",
       "<table border=\"1\" class=\"dataframe\">\n",
       "  <thead>\n",
       "    <tr style=\"text-align: right;\">\n",
       "      <th></th>\n",
       "      <th>0</th>\n",
       "      <th>1</th>\n",
       "      <th>2</th>\n",
       "      <th>3</th>\n",
       "    </tr>\n",
       "  </thead>\n",
       "  <tbody>\n",
       "    <tr>\n",
       "      <th>sepal_length</th>\n",
       "      <td>102.168333</td>\n",
       "      <td>-6.322667</td>\n",
       "      <td>189.8730</td>\n",
       "      <td>76.924333</td>\n",
       "    </tr>\n",
       "    <tr>\n",
       "      <th>sepal_width</th>\n",
       "      <td>-6.322667</td>\n",
       "      <td>28.306933</td>\n",
       "      <td>-49.1188</td>\n",
       "      <td>-18.124267</td>\n",
       "    </tr>\n",
       "    <tr>\n",
       "      <th>petal_length</th>\n",
       "      <td>189.873000</td>\n",
       "      <td>-49.118800</td>\n",
       "      <td>464.3254</td>\n",
       "      <td>193.045800</td>\n",
       "    </tr>\n",
       "    <tr>\n",
       "      <th>petal_width</th>\n",
       "      <td>76.924333</td>\n",
       "      <td>-18.124267</td>\n",
       "      <td>193.0458</td>\n",
       "      <td>86.569933</td>\n",
       "    </tr>\n",
       "  </tbody>\n",
       "</table>\n",
       "</div>"
      ],
      "text/plain": [
       "                       0          1         2           3\n",
       "sepal_length  102.168333  -6.322667  189.8730   76.924333\n",
       "sepal_width    -6.322667  28.306933  -49.1188  -18.124267\n",
       "petal_length  189.873000 -49.118800  464.3254  193.045800\n",
       "petal_width    76.924333 -18.124267  193.0458   86.569933"
      ]
     },
     "execution_count": 9,
     "metadata": {},
     "output_type": "execute_result"
    }
   ],
   "source": [
    "finalmat"
   ]
  },
  {
   "cell_type": "code",
   "execution_count": 10,
   "id": "f5cb2d8a",
   "metadata": {},
   "outputs": [
    {
     "data": {
      "text/plain": [
       "(array([  3.55142885,  11.65321551,  36.15794144, 630.0080142 ]),\n",
       " array([[ 0.31548719,  0.58202985,  0.65658877, -0.36138659],\n",
       "        [-0.3197231 , -0.59791083,  0.73016143,  0.08452251],\n",
       "        [-0.47983899, -0.07623608, -0.17337266, -0.85667061],\n",
       "        [ 0.75365743, -0.54583143, -0.07548102, -0.3582892 ]]))"
      ]
     },
     "execution_count": 10,
     "metadata": {},
     "output_type": "execute_result"
    }
   ],
   "source": [
    "eigvalues=np.linalg.eigh(finalmat)\n",
    "eigvalues"
   ]
  },
  {
   "cell_type": "code",
   "execution_count": 60,
   "id": "1dc93910",
   "metadata": {},
   "outputs": [
    {
     "data": {
      "text/plain": [
       "array([0.00521218, 0.01710261, 0.05306648, 0.92461872])"
      ]
     },
     "execution_count": 60,
     "metadata": {},
     "output_type": "execute_result"
    }
   ],
   "source": [
    "eigvalues[0]/sum(eigvalues[0])"
   ]
  },
  {
   "cell_type": "code",
   "execution_count": 11,
   "id": "18234e22",
   "metadata": {},
   "outputs": [
    {
     "data": {
      "text/html": [
       "<div>\n",
       "<style scoped>\n",
       "    .dataframe tbody tr th:only-of-type {\n",
       "        vertical-align: middle;\n",
       "    }\n",
       "\n",
       "    .dataframe tbody tr th {\n",
       "        vertical-align: top;\n",
       "    }\n",
       "\n",
       "    .dataframe thead th {\n",
       "        text-align: right;\n",
       "    }\n",
       "</style>\n",
       "<table border=\"1\" class=\"dataframe\">\n",
       "  <thead>\n",
       "    <tr style=\"text-align: right;\">\n",
       "      <th></th>\n",
       "      <th>0</th>\n",
       "      <th>1</th>\n",
       "      <th>2</th>\n",
       "      <th>3</th>\n",
       "    </tr>\n",
       "  </thead>\n",
       "  <tbody>\n",
       "    <tr>\n",
       "      <th>0</th>\n",
       "      <td>0.002262</td>\n",
       "      <td>0.027915</td>\n",
       "      <td>0.319397</td>\n",
       "      <td>2.684126</td>\n",
       "    </tr>\n",
       "    <tr>\n",
       "      <th>1</th>\n",
       "      <td>0.099027</td>\n",
       "      <td>0.210464</td>\n",
       "      <td>-0.177001</td>\n",
       "      <td>2.714142</td>\n",
       "    </tr>\n",
       "    <tr>\n",
       "      <th>2</th>\n",
       "      <td>0.019968</td>\n",
       "      <td>-0.017900</td>\n",
       "      <td>-0.144949</td>\n",
       "      <td>2.888991</td>\n",
       "    </tr>\n",
       "    <tr>\n",
       "      <th>3</th>\n",
       "      <td>-0.075576</td>\n",
       "      <td>-0.031559</td>\n",
       "      <td>-0.318299</td>\n",
       "      <td>2.745343</td>\n",
       "    </tr>\n",
       "    <tr>\n",
       "      <th>4</th>\n",
       "      <td>-0.061259</td>\n",
       "      <td>-0.090079</td>\n",
       "      <td>0.326755</td>\n",
       "      <td>2.728717</td>\n",
       "    </tr>\n",
       "    <tr>\n",
       "      <th>...</th>\n",
       "      <td>...</td>\n",
       "      <td>...</td>\n",
       "      <td>...</td>\n",
       "      <td>...</td>\n",
       "    </tr>\n",
       "    <tr>\n",
       "      <th>145</th>\n",
       "      <td>0.426196</td>\n",
       "      <td>-0.177825</td>\n",
       "      <td>0.187532</td>\n",
       "      <td>-1.944110</td>\n",
       "    </tr>\n",
       "    <tr>\n",
       "      <th>146</th>\n",
       "      <td>0.254367</td>\n",
       "      <td>0.121898</td>\n",
       "      <td>-0.375317</td>\n",
       "      <td>-1.527167</td>\n",
       "    </tr>\n",
       "    <tr>\n",
       "      <th>147</th>\n",
       "      <td>0.137001</td>\n",
       "      <td>-0.130482</td>\n",
       "      <td>0.078859</td>\n",
       "      <td>-1.764346</td>\n",
       "    </tr>\n",
       "    <tr>\n",
       "      <th>148</th>\n",
       "      <td>0.044595</td>\n",
       "      <td>-0.723252</td>\n",
       "      <td>0.116628</td>\n",
       "      <td>-1.900942</td>\n",
       "    </tr>\n",
       "    <tr>\n",
       "      <th>149</th>\n",
       "      <td>-0.155039</td>\n",
       "      <td>-0.362910</td>\n",
       "      <td>-0.282661</td>\n",
       "      <td>-1.390189</td>\n",
       "    </tr>\n",
       "  </tbody>\n",
       "</table>\n",
       "<p>150 rows × 4 columns</p>\n",
       "</div>"
      ],
      "text/plain": [
       "            0         1         2         3\n",
       "0    0.002262  0.027915  0.319397  2.684126\n",
       "1    0.099027  0.210464 -0.177001  2.714142\n",
       "2    0.019968 -0.017900 -0.144949  2.888991\n",
       "3   -0.075576 -0.031559 -0.318299  2.745343\n",
       "4   -0.061259 -0.090079  0.326755  2.728717\n",
       "..        ...       ...       ...       ...\n",
       "145  0.426196 -0.177825  0.187532 -1.944110\n",
       "146  0.254367  0.121898 -0.375317 -1.527167\n",
       "147  0.137001 -0.130482  0.078859 -1.764346\n",
       "148  0.044595 -0.723252  0.116628 -1.900942\n",
       "149 -0.155039 -0.362910 -0.282661 -1.390189\n",
       "\n",
       "[150 rows x 4 columns]"
      ]
     },
     "execution_count": 11,
     "metadata": {},
     "output_type": "execute_result"
    }
   ],
   "source": [
    "new_features=np.matmul(x,eigvalues[1])\n",
    "new_features"
   ]
  },
  {
   "cell_type": "code",
   "execution_count": 12,
   "id": "234982f9",
   "metadata": {
    "collapsed": true
   },
   "outputs": [
    {
     "data": {
      "text/plain": [
       "array([[ 2.68412563],\n",
       "       [ 2.71414169],\n",
       "       [ 2.88899057],\n",
       "       [ 2.74534286],\n",
       "       [ 2.72871654],\n",
       "       [ 2.28085963],\n",
       "       [ 2.82053775],\n",
       "       [ 2.62614497],\n",
       "       [ 2.88638273],\n",
       "       [ 2.6727558 ],\n",
       "       [ 2.50694709],\n",
       "       [ 2.61275523],\n",
       "       [ 2.78610927],\n",
       "       [ 3.22380374],\n",
       "       [ 2.64475039],\n",
       "       [ 2.38603903],\n",
       "       [ 2.62352788],\n",
       "       [ 2.64829671],\n",
       "       [ 2.19982032],\n",
       "       [ 2.5879864 ],\n",
       "       [ 2.31025622],\n",
       "       [ 2.54370523],\n",
       "       [ 3.21593942],\n",
       "       [ 2.30273318],\n",
       "       [ 2.35575405],\n",
       "       [ 2.50666891],\n",
       "       [ 2.46882007],\n",
       "       [ 2.56231991],\n",
       "       [ 2.63953472],\n",
       "       [ 2.63198939],\n",
       "       [ 2.58739848],\n",
       "       [ 2.4099325 ],\n",
       "       [ 2.64886233],\n",
       "       [ 2.59873675],\n",
       "       [ 2.63692688],\n",
       "       [ 2.86624165],\n",
       "       [ 2.62523805],\n",
       "       [ 2.80068412],\n",
       "       [ 2.98050204],\n",
       "       [ 2.59000631],\n",
       "       [ 2.77010243],\n",
       "       [ 2.84936871],\n",
       "       [ 2.99740655],\n",
       "       [ 2.40561449],\n",
       "       [ 2.20948924],\n",
       "       [ 2.71445143],\n",
       "       [ 2.53814826],\n",
       "       [ 2.83946217],\n",
       "       [ 2.54308575],\n",
       "       [ 2.70335978],\n",
       "       [-1.28482569],\n",
       "       [-0.93248853],\n",
       "       [-1.46430232],\n",
       "       [-0.18331772],\n",
       "       [-1.08810326],\n",
       "       [-0.64166908],\n",
       "       [-1.09506066],\n",
       "       [ 0.74912267],\n",
       "       [-1.04413183],\n",
       "       [ 0.0087454 ],\n",
       "       [ 0.50784088],\n",
       "       [-0.51169856],\n",
       "       [-0.26497651],\n",
       "       [-0.98493451],\n",
       "       [ 0.17392537],\n",
       "       [-0.92786078],\n",
       "       [-0.66028376],\n",
       "       [-0.23610499],\n",
       "       [-0.94473373],\n",
       "       [-0.04522698],\n",
       "       [-1.11628318],\n",
       "       [-0.35788842],\n",
       "       [-1.29818388],\n",
       "       [-0.92172892],\n",
       "       [-0.71485333],\n",
       "       [-0.90017437],\n",
       "       [-1.33202444],\n",
       "       [-1.55780216],\n",
       "       [-0.81329065],\n",
       "       [ 0.30558378],\n",
       "       [ 0.06812649],\n",
       "       [ 0.18962247],\n",
       "       [-0.13642871],\n",
       "       [-1.38002644],\n",
       "       [-0.58800644],\n",
       "       [-0.80685831],\n",
       "       [-1.22069088],\n",
       "       [-0.81509524],\n",
       "       [-0.24595768],\n",
       "       [-0.16641322],\n",
       "       [-0.46480029],\n",
       "       [-0.8908152 ],\n",
       "       [-0.23054802],\n",
       "       [ 0.70453176],\n",
       "       [-0.35698149],\n",
       "       [-0.33193448],\n",
       "       [-0.37621565],\n",
       "       [-0.64257601],\n",
       "       [ 0.90646986],\n",
       "       [-0.29900084],\n",
       "       [-2.53119273],\n",
       "       [-1.41523588],\n",
       "       [-2.61667602],\n",
       "       [-1.97153105],\n",
       "       [-2.35000592],\n",
       "       [-3.39703874],\n",
       "       [-0.52123224],\n",
       "       [-2.93258707],\n",
       "       [-2.32122882],\n",
       "       [-2.91675097],\n",
       "       [-1.66177415],\n",
       "       [-1.80340195],\n",
       "       [-2.1655918 ],\n",
       "       [-1.34616358],\n",
       "       [-1.58592822],\n",
       "       [-1.90445637],\n",
       "       [-1.94968906],\n",
       "       [-3.48705536],\n",
       "       [-3.79564542],\n",
       "       [-1.30079171],\n",
       "       [-2.42781791],\n",
       "       [-1.19900111],\n",
       "       [-3.49992004],\n",
       "       [-1.38876613],\n",
       "       [-2.2754305 ],\n",
       "       [-2.61409047],\n",
       "       [-1.25850816],\n",
       "       [-1.29113206],\n",
       "       [-2.12360872],\n",
       "       [-2.38800302],\n",
       "       [-2.84167278],\n",
       "       [-3.23067366],\n",
       "       [-2.15943764],\n",
       "       [-1.44416124],\n",
       "       [-1.78129481],\n",
       "       [-3.07649993],\n",
       "       [-2.14424331],\n",
       "       [-1.90509815],\n",
       "       [-1.16932634],\n",
       "       [-2.10761114],\n",
       "       [-2.31415471],\n",
       "       [-1.9222678 ],\n",
       "       [-1.41523588],\n",
       "       [-2.56301338],\n",
       "       [-2.41874618],\n",
       "       [-1.94410979],\n",
       "       [-1.52716661],\n",
       "       [-1.76434572],\n",
       "       [-1.90094161],\n",
       "       [-1.39018886]])"
      ]
     },
     "execution_count": 12,
     "metadata": {},
     "output_type": "execute_result"
    }
   ],
   "source": [
    "z1=new_features[3]\n",
    "np.reshape(np.array(z1),(150,1))"
   ]
  },
  {
   "cell_type": "code",
   "execution_count": 20,
   "id": "6b42d324",
   "metadata": {},
   "outputs": [],
   "source": [
    "encoder=LabelEncoder()\n",
    "data[\"species\"]=encoder.fit_transform(data[\"species\"])"
   ]
  },
  {
   "cell_type": "code",
   "execution_count": 14,
   "id": "9e629744",
   "metadata": {},
   "outputs": [],
   "source": [
    "x_train,x_test,y_train,y_test=train_test_split(new_features.iloc[:,3:4],data[\"species\"],test_size=0.2)"
   ]
  },
  {
   "cell_type": "code",
   "execution_count": 15,
   "id": "6382b0be",
   "metadata": {},
   "outputs": [
    {
     "data": {
      "text/plain": [
       "LogisticRegression()"
      ]
     },
     "execution_count": 15,
     "metadata": {},
     "output_type": "execute_result"
    }
   ],
   "source": [
    "model=LogisticRegression()\n",
    "model.fit(x_train,y_train)"
   ]
  },
  {
   "cell_type": "code",
   "execution_count": 16,
   "id": "7e367021",
   "metadata": {},
   "outputs": [
    {
     "name": "stdout",
     "output_type": "stream",
     "text": [
      "              precision    recall  f1-score   support\n",
      "\n",
      "           0       1.00      1.00      1.00        12\n",
      "           1       0.90      1.00      0.95         9\n",
      "           2       1.00      0.89      0.94         9\n",
      "\n",
      "    accuracy                           0.97        30\n",
      "   macro avg       0.97      0.96      0.96        30\n",
      "weighted avg       0.97      0.97      0.97        30\n",
      "\n"
     ]
    }
   ],
   "source": [
    "pred=model.predict(x_test)\n",
    "print(classification_report(y_test,pred))"
   ]
  },
  {
   "cell_type": "code",
   "execution_count": 17,
   "id": "1e39e2e6",
   "metadata": {},
   "outputs": [
    {
     "data": {
      "text/plain": [
       "<matplotlib.collections.PathCollection at 0x242224ff310>"
      ]
     },
     "execution_count": 17,
     "metadata": {},
     "output_type": "execute_result"
    },
    {
     "data": {
      "image/png": "[encoded data removed]",
      "text/plain": [
       "<Figure size 1000x400 with 1 Axes>"
      ]
     },
     "metadata": {},
     "output_type": "display_data"
    }
   ],
   "source": [
    "plt.figure(figsize=(10,4))\n",
    "plt.scatter(new_features.iloc[:,2],new_features.iloc[:,3],c=data[\"species\"])"
   ]
  },
  {
   "cell_type": "markdown",
   "id": "e9e0a73a",
   "metadata": {},
   "source": [
    "# Method 2"
   ]
  },
  {
   "cell_type": "code",
   "execution_count": 18,
   "id": "83e8862e",
   "metadata": {},
   "outputs": [],
   "source": [
    "val,vec=np.linalg.eigh(np.dot(x.T,x))"
   ]
  },
  {
   "cell_type": "code",
   "execution_count": 19,
   "id": "6a09f9f1",
   "metadata": {},
   "outputs": [
    {
     "data": {
      "text/plain": [
       "array([  3.55142885,  11.65321551,  36.15794144, 630.0080142 ])"
      ]
     },
     "execution_count": 19,
     "metadata": {},
     "output_type": "execute_result"
    }
   ],
   "source": [
    "val"
   ]
  },
  {
   "cell_type": "code",
   "execution_count": 20,
   "id": "32ef5307",
   "metadata": {},
   "outputs": [],
   "source": [
    "new_fea=np.dot(x,vec)"
   ]
  },
  {
   "cell_type": "code",
   "execution_count": 37,
   "id": "3e2a3f96",
   "metadata": {},
   "outputs": [],
   "source": [
    "x_train,x_test,y_train,y_test=train_test_split(new_fea[:,3:],data[\"species\"],test_size=0.2)"
   ]
  },
  {
   "cell_type": "code",
   "execution_count": 38,
   "id": "93ca623b",
   "metadata": {},
   "outputs": [
    {
     "data": {
      "text/plain": [
       "LogisticRegression()"
      ]
     },
     "execution_count": 38,
     "metadata": {},
     "output_type": "execute_result"
    }
   ],
   "source": [
    "model=LogisticRegression()\n",
    "model.fit(x_train,y_train)"
   ]
  },
  {
   "cell_type": "code",
   "execution_count": 39,
   "id": "a7df4289",
   "metadata": {},
   "outputs": [
    {
     "name": "stdout",
     "output_type": "stream",
     "text": [
      "              precision    recall  f1-score   support\n",
      "\n",
      "           0       1.00      1.00      1.00        13\n",
      "           1       1.00      0.80      0.89        10\n",
      "           2       0.78      1.00      0.88         7\n",
      "\n",
      "    accuracy                           0.93        30\n",
      "   macro avg       0.93      0.93      0.92        30\n",
      "weighted avg       0.95      0.93      0.93        30\n",
      "\n"
     ]
    }
   ],
   "source": [
    "pred=model.predict(x_test)\n",
    "print(classification_report(y_test,pred))"
   ]
  },
  {
   "cell_type": "markdown",
   "id": "8a9ffd92",
   "metadata": {},
   "source": [
    "# method 3"
   ]
  },
  {
   "cell_type": "code",
   "execution_count": 32,
   "id": "498afd24",
   "metadata": {},
   "outputs": [],
   "source": [
    "from sklearn.decomposition import PCA"
   ]
  },
  {
   "cell_type": "code",
   "execution_count": 33,
   "id": "1d6b841e",
   "metadata": {},
   "outputs": [],
   "source": [
    "x=data.iloc[:,:4]\n",
    "x=x-x.mean(axis=0)\n",
    "encoder=LabelEncoder()\n",
    "data[\"species\"]=encoder.fit_transform(data[\"species\"])"
   ]
  },
  {
   "cell_type": "code",
   "execution_count": 34,
   "id": "b5fb36c8",
   "metadata": {},
   "outputs": [],
   "source": [
    "pca=PCA(n_components=2)\n",
    "pca_feature=pca.fit_transform(x)"
   ]
  },
  {
   "cell_type": "code",
   "execution_count": 35,
   "id": "f174c3d6",
   "metadata": {},
   "outputs": [],
   "source": [
    "x_train,x_test,y_train,y_test=train_test_split(pca_feature[:,0:1],data[\"species\"],test_size=0.2)"
   ]
  },
  {
   "cell_type": "code",
   "execution_count": 36,
   "id": "b872073b",
   "metadata": {},
   "outputs": [
    {
     "data": {
      "text/plain": [
       "LogisticRegression()"
      ]
     },
     "execution_count": 36,
     "metadata": {},
     "output_type": "execute_result"
    }
   ],
   "source": [
    "model=LogisticRegression()\n",
    "model.fit(x_train,y_train)"
   ]
  },
  {
   "cell_type": "code",
   "execution_count": 37,
   "id": "068af1ca",
   "metadata": {},
   "outputs": [
    {
     "name": "stdout",
     "output_type": "stream",
     "text": [
      "              precision    recall  f1-score   support\n",
      "\n",
      "           0       1.00      1.00      1.00        12\n",
      "           1       1.00      0.91      0.95        11\n",
      "           2       0.88      1.00      0.93         7\n",
      "\n",
      "    accuracy                           0.97        30\n",
      "   macro avg       0.96      0.97      0.96        30\n",
      "weighted avg       0.97      0.97      0.97        30\n",
      "\n"
     ]
    }
   ],
   "source": [
    "pred=model.predict(x_test)\n",
    "print(classification_report(y_test,pred))"
   ]
  },
  {
   "cell_type": "code",
   "execution_count": null,
   "id": "088776ab",
   "metadata": {},
   "outputs": [],
   "source": []
  },
  {
   "cell_type": "code",
   "execution_count": null,
   "id": "2201b401",
   "metadata": {},
   "outputs": [],
   "source": []
  }
 ],
 "metadata": {
  "kernelspec": {
   "display_name": "Python 3 (ipykernel)",
   "language": "python",
   "name": "python3"
  },
  "language_info": {
   "codemirror_mode": {
    "name": "ipython",
    "version": 3
   },
   "file_extension": ".py",
   "mimetype": "text/x-python",
   "name": "python",
   "nbconvert_exporter": "python",
   "pygments_lexer": "ipython3",
   "version": "3.9.13"
  }
 },
 "nbformat": 4,
 "nbformat_minor": 5
}
