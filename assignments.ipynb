{
 "cells": [
  {
   "cell_type": "code",
   "execution_count": 38,
   "id": "79f5d301",
   "metadata": {},
   "outputs": [
    {
     "data": {
      "text/plain": [
       "[3.9,\n",
       " 3.9,\n",
       " 3.85,\n",
       " 3.08,\n",
       " 3.15,\n",
       " 2.76,\n",
       " 3.21,\n",
       " 3.69,\n",
       " 3.92,\n",
       " 3.92,\n",
       " 3.92,\n",
       " 3.07,\n",
       " 3.07,\n",
       " 3.07,\n",
       " 2.93,\n",
       " 3,\n",
       " 3.23,\n",
       " 4.08,\n",
       " 4.93,\n",
       " 4.22,\n",
       " 3.7,\n",
       " 2.76,\n",
       " 3.15,\n",
       " 3.73,\n",
       " 3.08,\n",
       " 4.08,\n",
       " 4.43,\n",
       " 3.77,\n",
       " 4.22,\n",
       " 3.62,\n",
       " 3.54,\n",
       " 4.11]"
      ]
     },
     "execution_count": 38,
     "metadata": {},
     "output_type": "execute_result"
    }
   ],
   "source": [
    "l=[3.9,3.9,3.85,3.08,3.15,2.76,3.21,3.69,3.92,3.92,3.92,3.07,3.07,3.07,2.93,3,3.23,4.08,4.93,4.22,3.7,2.76,3.15,3.73,3.08,4.08,4.43,3.77,4.22,3.62,3.54,4.11]\n",
    "l"
   ]
  },
  {
   "cell_type": "code",
   "execution_count": 43,
   "id": "c675d46d",
   "metadata": {},
   "outputs": [
    {
     "data": {
      "text/plain": [
       "0.526258072236189"
      ]
     },
     "execution_count": 43,
     "metadata": {},
     "output_type": "execute_result"
    }
   ],
   "source": [
    "import numpy as np\n",
    "import pandas as pd\n",
    "np.std(l)"
   ]
  },
  {
   "cell_type": "code",
   "execution_count": 44,
   "id": "8fcc1654",
   "metadata": {},
   "outputs": [
    {
     "data": {
      "text/plain": [
       "32"
      ]
     },
     "execution_count": 44,
     "metadata": {},
     "output_type": "execute_result"
    }
   ],
   "source": [
    "len(l)"
   ]
  },
  {
   "cell_type": "code",
   "execution_count": 57,
   "id": "213ff91c",
   "metadata": {},
   "outputs": [
    {
     "data": {
      "text/plain": [
       "1.2599999999999998"
      ]
     },
     "execution_count": 57,
     "metadata": {},
     "output_type": "execute_result"
    }
   ],
   "source": [
    "(np.quantile(l,0.75)-np.quantile(l,0.25))*1.5"
   ]
  },
  {
   "cell_type": "code",
   "execution_count": 18,
   "id": "ed287b01",
   "metadata": {},
   "outputs": [],
   "source": [
    "l=[2.62,2.875,2.32,3.215,3.44,3.46,3.57,3.19,3.15,3.44,3.44,4.07,3.73,3.78,5.25,5.424,5.345,2.2,1.615,1.835,2.465,3.52,3.435,3.84,3.845,1.935,2.14,1.513,3.17,2.77,3.57,2.78\n",
    "]\n"
   ]
  },
  {
   "cell_type": "code",
   "execution_count": 24,
   "id": "d12400e9",
   "metadata": {},
   "outputs": [
    {
     "data": {
      "text/plain": [
       "5.424"
      ]
     },
     "execution_count": 24,
     "metadata": {},
     "output_type": "execute_result"
    }
   ],
   "source": [
    "np.max(l)"
   ]
  },
  {
   "cell_type": "code",
   "execution_count": 59,
   "id": "34549f6f",
   "metadata": {},
   "outputs": [],
   "source": [
    "l=[4,4,7,7,8,9,10,10,10,11,11,12,12,12,12,13,13,13,13,14,14,14,14,15,15,15,16,16,17,17,17,18,18,18,18,19,19,19,20,20,20,20,20,22,23,24,24,24,24,25\n",
    "]"
   ]
  },
  {
   "cell_type": "code",
   "execution_count": 65,
   "id": "715297cb",
   "metadata": {},
   "outputs": [
    {
     "data": {
      "text/plain": [
       "5.2345009313209605"
      ]
     },
     "execution_count": 65,
     "metadata": {},
     "output_type": "execute_result"
    }
   ],
   "source": [
    "np.std(l)"
   ]
  },
  {
   "cell_type": "code",
   "execution_count": null,
   "id": "3c6286ce",
   "metadata": {},
   "outputs": [],
   "source": []
  },
  {
   "cell_type": "code",
   "execution_count": null,
   "id": "b9ef9db2",
   "metadata": {},
   "outputs": [],
   "source": []
  },
  {
   "cell_type": "code",
   "execution_count": null,
   "id": "2010302c",
   "metadata": {},
   "outputs": [],
   "source": []
  }
 ],
 "metadata": {
  "kernelspec": {
   "display_name": "Python 3 (ipykernel)",
   "language": "python",
   "name": "python3"
  },
  "language_info": {
   "codemirror_mode": {
    "name": "ipython",
    "version": 3
   },
   "file_extension": ".py",
   "mimetype": "text/x-python",
   "name": "python",
   "nbconvert_exporter": "python",
   "pygments_lexer": "ipython3",
   "version": "3.9.13"
  }
 },
 "nbformat": 4,
 "nbformat_minor": 5
}
