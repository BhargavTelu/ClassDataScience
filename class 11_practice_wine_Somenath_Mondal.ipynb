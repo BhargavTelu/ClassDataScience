{
 "cells": [
  {
   "cell_type": "code",
   "execution_count": 2,
   "id": "c8b90754",
   "metadata": {},
   "outputs": [
    {
     "name": "stdout",
     "output_type": "stream",
     "text": [
      " Volume in drive C is Windows\n",
      " Volume Serial Number is 38A6-1C25\n",
      "\n",
      " Directory of C:\\Users\\Administrator\\Documents\\data science\n",
      "\n",
      "29-03-2023  11:42    <DIR>          .\n",
      "25-03-2023  18:29    <DIR>          ..\n",
      "29-03-2023  11:41    <DIR>          .ipynb_checkpoints\n",
      "29-03-2023  11:41            32,169 230327_practice_wine_Somenath_Mondal.ipynb\n",
      "29-03-2023  11:41            34,415 230327_Shubhangi_Birajdar_Practice_wine_full.ipynb\n",
      "29-03-2023  11:42           100,951 230327_winequality-red.csv\n",
      "26-02-2023  19:40             4,295 assignments.ipynb\n",
      "06-02-2023  19:59           103,983 BEML.csv\n",
      "23-02-2023  10:21             3,527 Cars.csv\n",
      "01-03-2023  22:12            29,822 claimants.csv\n",
      "14-03-2023  23:20           250,018 clustering class 6.ipynb\n",
      "25-03-2023  18:27                20 core python class 2 vs.py\n",
      "28-03-2023  17:42           328,617 Decision Tree class 8 _C5.0_CART.ipynb\n",
      "13-03-2023  09:58            11,336 fun-data.csv\n",
      "06-02-2023  19:59           107,633 GLAXO.csv\n",
      "30-01-2023  09:40             3,858 iris.csv\n",
      "21-03-2023  12:29           140,437 KNN class 7.ipynb\n",
      "08-03-2023  12:34           137,131 linear regression class 2.ipynb\n",
      "19-03-2023  13:15            39,615 logistic regression class 4.ipynb\n",
      "13-03-2023  09:32            12,089 logisticdrawback_230310.csv\n",
      "03-03-2023  10:34           234,909 Movie_230303.csv\n",
      "11-03-2023  12:21           751,242 Multi Linear Regression-updated class 3.ipynb\n",
      "26-03-2023  00:03           132,369 NLP-Copy1 class 10.ipynb\n",
      "25-03-2023  23:44            61,956 NLP-food-review.csv\n",
      "26-03-2023  13:08            75,783 PCA class 9.ipynb\n",
      "13-03-2023  11:24           212,154 practice.ipynb\n",
      "20-02-2023  14:46           346,129 python datascience class 1.ipynb\n",
      "03-03-2023  11:01           141,199 recommendation class 5 Association Rules_230303.ipynb\n",
      "03-03-2023  10:34            96,086 Recommendation Engine_230303.ipynb\n",
      "03-03-2023  10:34            44,382 Titanic_230303.csv\n",
      "17-02-2023  10:30             1,172 wc-at.csv\n",
      "15-03-2023  11:59            15,021 Wholesale customers data.csv\n",
      "              29 File(s)      3,452,318 bytes\n",
      "               3 Dir(s)  40,286,547,968 bytes free\n"
     ]
    }
   ],
   "source": [
    "ls"
   ]
  },
  {
   "cell_type": "code",
   "execution_count": 3,
   "id": "1162deb3",
   "metadata": {},
   "outputs": [],
   "source": [
    "import pandas as pd "
   ]
  },
  {
   "cell_type": "code",
   "execution_count": 7,
   "id": "86ae538f",
   "metadata": {},
   "outputs": [],
   "source": [
    "data=pd.read_csv(\"230327_winequality-red.csv\")"
   ]
  },
  {
   "cell_type": "code",
   "execution_count": 8,
   "id": "64277d8d",
   "metadata": {},
   "outputs": [
    {
     "data": {
      "text/html": [
       "<div>\n",
       "<style scoped>\n",
       "    .dataframe tbody tr th:only-of-type {\n",
       "        vertical-align: middle;\n",
       "    }\n",
       "\n",
       "    .dataframe tbody tr th {\n",
       "        vertical-align: top;\n",
       "    }\n",
       "\n",
       "    .dataframe thead th {\n",
       "        text-align: right;\n",
       "    }\n",
       "</style>\n",
       "<table border=\"1\" class=\"dataframe\">\n",
       "  <thead>\n",
       "    <tr style=\"text-align: right;\">\n",
       "      <th></th>\n",
       "      <th>fixed acidity</th>\n",
       "      <th>volatile acidity</th>\n",
       "      <th>citric acid</th>\n",
       "      <th>residual sugar</th>\n",
       "      <th>chlorides</th>\n",
       "      <th>free sulfur dioxide</th>\n",
       "      <th>total sulfur dioxide</th>\n",
       "      <th>density</th>\n",
       "      <th>pH</th>\n",
       "      <th>sulphates</th>\n",
       "      <th>alcohol</th>\n",
       "      <th>quality</th>\n",
       "    </tr>\n",
       "  </thead>\n",
       "  <tbody>\n",
       "    <tr>\n",
       "      <th>0</th>\n",
       "      <td>7.4</td>\n",
       "      <td>0.700</td>\n",
       "      <td>0.00</td>\n",
       "      <td>1.9</td>\n",
       "      <td>0.076</td>\n",
       "      <td>11.0</td>\n",
       "      <td>34.0</td>\n",
       "      <td>0.99780</td>\n",
       "      <td>3.51</td>\n",
       "      <td>0.56</td>\n",
       "      <td>9.4</td>\n",
       "      <td>5</td>\n",
       "    </tr>\n",
       "    <tr>\n",
       "      <th>1</th>\n",
       "      <td>7.8</td>\n",
       "      <td>0.880</td>\n",
       "      <td>0.00</td>\n",
       "      <td>2.6</td>\n",
       "      <td>0.098</td>\n",
       "      <td>25.0</td>\n",
       "      <td>67.0</td>\n",
       "      <td>0.99680</td>\n",
       "      <td>3.20</td>\n",
       "      <td>0.68</td>\n",
       "      <td>9.8</td>\n",
       "      <td>5</td>\n",
       "    </tr>\n",
       "    <tr>\n",
       "      <th>2</th>\n",
       "      <td>7.8</td>\n",
       "      <td>0.760</td>\n",
       "      <td>0.04</td>\n",
       "      <td>2.3</td>\n",
       "      <td>0.092</td>\n",
       "      <td>15.0</td>\n",
       "      <td>54.0</td>\n",
       "      <td>0.99700</td>\n",
       "      <td>3.26</td>\n",
       "      <td>0.65</td>\n",
       "      <td>9.8</td>\n",
       "      <td>5</td>\n",
       "    </tr>\n",
       "    <tr>\n",
       "      <th>3</th>\n",
       "      <td>11.2</td>\n",
       "      <td>0.280</td>\n",
       "      <td>0.56</td>\n",
       "      <td>1.9</td>\n",
       "      <td>0.075</td>\n",
       "      <td>17.0</td>\n",
       "      <td>60.0</td>\n",
       "      <td>0.99800</td>\n",
       "      <td>3.16</td>\n",
       "      <td>0.58</td>\n",
       "      <td>9.8</td>\n",
       "      <td>6</td>\n",
       "    </tr>\n",
       "    <tr>\n",
       "      <th>4</th>\n",
       "      <td>7.4</td>\n",
       "      <td>0.700</td>\n",
       "      <td>0.00</td>\n",
       "      <td>1.9</td>\n",
       "      <td>0.076</td>\n",
       "      <td>11.0</td>\n",
       "      <td>34.0</td>\n",
       "      <td>0.99780</td>\n",
       "      <td>3.51</td>\n",
       "      <td>0.56</td>\n",
       "      <td>9.4</td>\n",
       "      <td>5</td>\n",
       "    </tr>\n",
       "    <tr>\n",
       "      <th>...</th>\n",
       "      <td>...</td>\n",
       "      <td>...</td>\n",
       "      <td>...</td>\n",
       "      <td>...</td>\n",
       "      <td>...</td>\n",
       "      <td>...</td>\n",
       "      <td>...</td>\n",
       "      <td>...</td>\n",
       "      <td>...</td>\n",
       "      <td>...</td>\n",
       "      <td>...</td>\n",
       "      <td>...</td>\n",
       "    </tr>\n",
       "    <tr>\n",
       "      <th>1594</th>\n",
       "      <td>6.2</td>\n",
       "      <td>0.600</td>\n",
       "      <td>0.08</td>\n",
       "      <td>2.0</td>\n",
       "      <td>0.090</td>\n",
       "      <td>32.0</td>\n",
       "      <td>44.0</td>\n",
       "      <td>0.99490</td>\n",
       "      <td>3.45</td>\n",
       "      <td>0.58</td>\n",
       "      <td>10.5</td>\n",
       "      <td>5</td>\n",
       "    </tr>\n",
       "    <tr>\n",
       "      <th>1595</th>\n",
       "      <td>5.9</td>\n",
       "      <td>0.550</td>\n",
       "      <td>0.10</td>\n",
       "      <td>2.2</td>\n",
       "      <td>0.062</td>\n",
       "      <td>39.0</td>\n",
       "      <td>51.0</td>\n",
       "      <td>0.99512</td>\n",
       "      <td>3.52</td>\n",
       "      <td>0.76</td>\n",
       "      <td>11.2</td>\n",
       "      <td>6</td>\n",
       "    </tr>\n",
       "    <tr>\n",
       "      <th>1596</th>\n",
       "      <td>6.3</td>\n",
       "      <td>0.510</td>\n",
       "      <td>0.13</td>\n",
       "      <td>2.3</td>\n",
       "      <td>0.076</td>\n",
       "      <td>29.0</td>\n",
       "      <td>40.0</td>\n",
       "      <td>0.99574</td>\n",
       "      <td>3.42</td>\n",
       "      <td>0.75</td>\n",
       "      <td>11.0</td>\n",
       "      <td>6</td>\n",
       "    </tr>\n",
       "    <tr>\n",
       "      <th>1597</th>\n",
       "      <td>5.9</td>\n",
       "      <td>0.645</td>\n",
       "      <td>0.12</td>\n",
       "      <td>2.0</td>\n",
       "      <td>0.075</td>\n",
       "      <td>32.0</td>\n",
       "      <td>44.0</td>\n",
       "      <td>0.99547</td>\n",
       "      <td>3.57</td>\n",
       "      <td>0.71</td>\n",
       "      <td>10.2</td>\n",
       "      <td>5</td>\n",
       "    </tr>\n",
       "    <tr>\n",
       "      <th>1598</th>\n",
       "      <td>6.0</td>\n",
       "      <td>0.310</td>\n",
       "      <td>0.47</td>\n",
       "      <td>3.6</td>\n",
       "      <td>0.067</td>\n",
       "      <td>18.0</td>\n",
       "      <td>42.0</td>\n",
       "      <td>0.99549</td>\n",
       "      <td>3.39</td>\n",
       "      <td>0.66</td>\n",
       "      <td>11.0</td>\n",
       "      <td>6</td>\n",
       "    </tr>\n",
       "  </tbody>\n",
       "</table>\n",
       "<p>1599 rows × 12 columns</p>\n",
       "</div>"
      ],
      "text/plain": [
       "      fixed acidity  volatile acidity  citric acid  residual sugar  chlorides  \\\n",
       "0               7.4             0.700         0.00             1.9      0.076   \n",
       "1               7.8             0.880         0.00             2.6      0.098   \n",
       "2               7.8             0.760         0.04             2.3      0.092   \n",
       "3              11.2             0.280         0.56             1.9      0.075   \n",
       "4               7.4             0.700         0.00             1.9      0.076   \n",
       "...             ...               ...          ...             ...        ...   \n",
       "1594            6.2             0.600         0.08             2.0      0.090   \n",
       "1595            5.9             0.550         0.10             2.2      0.062   \n",
       "1596            6.3             0.510         0.13             2.3      0.076   \n",
       "1597            5.9             0.645         0.12             2.0      0.075   \n",
       "1598            6.0             0.310         0.47             3.6      0.067   \n",
       "\n",
       "      free sulfur dioxide  total sulfur dioxide  density    pH  sulphates  \\\n",
       "0                    11.0                  34.0  0.99780  3.51       0.56   \n",
       "1                    25.0                  67.0  0.99680  3.20       0.68   \n",
       "2                    15.0                  54.0  0.99700  3.26       0.65   \n",
       "3                    17.0                  60.0  0.99800  3.16       0.58   \n",
       "4                    11.0                  34.0  0.99780  3.51       0.56   \n",
       "...                   ...                   ...      ...   ...        ...   \n",
       "1594                 32.0                  44.0  0.99490  3.45       0.58   \n",
       "1595                 39.0                  51.0  0.99512  3.52       0.76   \n",
       "1596                 29.0                  40.0  0.99574  3.42       0.75   \n",
       "1597                 32.0                  44.0  0.99547  3.57       0.71   \n",
       "1598                 18.0                  42.0  0.99549  3.39       0.66   \n",
       "\n",
       "      alcohol  quality  \n",
       "0         9.4        5  \n",
       "1         9.8        5  \n",
       "2         9.8        5  \n",
       "3         9.8        6  \n",
       "4         9.4        5  \n",
       "...       ...      ...  \n",
       "1594     10.5        5  \n",
       "1595     11.2        6  \n",
       "1596     11.0        6  \n",
       "1597     10.2        5  \n",
       "1598     11.0        6  \n",
       "\n",
       "[1599 rows x 12 columns]"
      ]
     },
     "execution_count": 8,
     "metadata": {},
     "output_type": "execute_result"
    }
   ],
   "source": [
    "data"
   ]
  },
  {
   "cell_type": "code",
   "execution_count": 54,
   "id": "f78654e2",
   "metadata": {},
   "outputs": [
    {
     "data": {
      "text/plain": [
       "5    681\n",
       "6    638\n",
       "7    199\n",
       "4     53\n",
       "8     18\n",
       "3     10\n",
       "Name: quality, dtype: int64"
      ]
     },
     "execution_count": 54,
     "metadata": {},
     "output_type": "execute_result"
    }
   ],
   "source": [
    "data[\"quality\"].value_counts()\n"
   ]
  },
  {
   "cell_type": "code",
   "execution_count": 65,
   "id": "b8fde724",
   "metadata": {},
   "outputs": [],
   "source": [
    "data[\"quality\"]=data[\"quality\"]>5"
   ]
  },
  {
   "cell_type": "code",
   "execution_count": 55,
   "id": "e1f16699",
   "metadata": {},
   "outputs": [],
   "source": [
    "#data[\"quality\"]=data[\"quality\"].map({4:0,8:0,3:0,5:1,6:2,7:0})"
   ]
  },
  {
   "cell_type": "code",
   "execution_count": 66,
   "id": "48aa430d",
   "metadata": {},
   "outputs": [
    {
     "data": {
      "text/plain": [
       "True     855\n",
       "False    744\n",
       "Name: quality, dtype: int64"
      ]
     },
     "execution_count": 66,
     "metadata": {},
     "output_type": "execute_result"
    }
   ],
   "source": [
    "data[\"quality\"].value_counts()\n",
    "\n"
   ]
  },
  {
   "cell_type": "code",
   "execution_count": 67,
   "id": "ec7df5b3",
   "metadata": {},
   "outputs": [],
   "source": [
    "from sklearn.preprocessing import MinMaxScaler,StandardScaler,RobustScaler\n",
    "scaler=MinMaxScaler()\n",
    "new_featres=scaler.fit_transform(data.iloc[:,:-1])"
   ]
  },
  {
   "cell_type": "code",
   "execution_count": 68,
   "id": "60b29494",
   "metadata": {},
   "outputs": [
    {
     "data": {
      "text/plain": [
       "array([[0.24778761, 0.39726027, 0.        , ..., 0.60629921, 0.13772455,\n",
       "        0.15384615],\n",
       "       [0.28318584, 0.52054795, 0.        , ..., 0.36220472, 0.20958084,\n",
       "        0.21538462],\n",
       "       [0.28318584, 0.43835616, 0.04      , ..., 0.40944882, 0.19161677,\n",
       "        0.21538462],\n",
       "       ...,\n",
       "       [0.15044248, 0.26712329, 0.13      , ..., 0.53543307, 0.25149701,\n",
       "        0.4       ],\n",
       "       [0.11504425, 0.35958904, 0.12      , ..., 0.65354331, 0.22754491,\n",
       "        0.27692308],\n",
       "       [0.12389381, 0.13013699, 0.47      , ..., 0.51181102, 0.19760479,\n",
       "        0.4       ]])"
      ]
     },
     "execution_count": 68,
     "metadata": {},
     "output_type": "execute_result"
    }
   ],
   "source": [
    "new_featres"
   ]
  },
  {
   "cell_type": "code",
   "execution_count": 9,
   "id": "88ee791e",
   "metadata": {},
   "outputs": [],
   "source": [
    "import pandas as pd \n",
    "import numpy as np\n",
    "import matplotlib.pyplot as plt\n",
    "from  sklearn.linear_model import LogisticRegression\n",
    "from  sklearn.neighbors import KNeighborsClassifier\n",
    "from sklearn.tree import DecisionTreeClassifier\n",
    "from sklearn.metrics import classification_report,accuracy_score\n",
    "from  sklearn.model_selection import train_test_split\n",
    "\n",
    "\n",
    "from sklearn.ensemble import RandomForestClassifier,BaggingClassifier,AdaBoostClassifier\n",
    "\n",
    "\n",
    "\n"
   ]
  },
  {
   "cell_type": "code",
   "execution_count": 70,
   "id": "45a79356",
   "metadata": {},
   "outputs": [],
   "source": [
    "x_train,x_test,y_train,y_test=train_test_split(new_featres,data.iloc[:,-1],test_size=0.3)"
   ]
  },
  {
   "cell_type": "code",
   "execution_count": 71,
   "id": "a62b74cd",
   "metadata": {},
   "outputs": [
    {
     "data": {
      "text/plain": [
       "True     266\n",
       "False    214\n",
       "Name: quality, dtype: int64"
      ]
     },
     "execution_count": 71,
     "metadata": {},
     "output_type": "execute_result"
    }
   ],
   "source": [
    "y_test.value_counts()"
   ]
  },
  {
   "cell_type": "markdown",
   "id": "0749212a",
   "metadata": {},
   "source": [
    "# Logistic Reg"
   ]
  },
  {
   "cell_type": "code",
   "execution_count": 72,
   "id": "bc130f9c",
   "metadata": {},
   "outputs": [
    {
     "name": "stdout",
     "output_type": "stream",
     "text": [
      "              precision    recall  f1-score   support\n",
      "\n",
      "       False       0.82      0.75      0.78       232\n",
      "        True       0.79      0.84      0.81       248\n",
      "\n",
      "    accuracy                           0.80       480\n",
      "   macro avg       0.80      0.80      0.80       480\n",
      "weighted avg       0.80      0.80      0.80       480\n",
      "\n"
     ]
    }
   ],
   "source": [
    "model=LogisticRegression()\n",
    "model.fit(x_train,y_train)\n",
    "pred=model.predict(x_test)\n",
    "print(classification_report(pred,y_test))\n"
   ]
  },
  {
   "cell_type": "markdown",
   "id": "127db4d2",
   "metadata": {},
   "source": [
    "# KNN"
   ]
  },
  {
   "cell_type": "code",
   "execution_count": 73,
   "id": "32b13279",
   "metadata": {},
   "outputs": [],
   "source": [
    "l=[]\n",
    "for i in range(1,40):\n",
    "    model=KNeighborsClassifier(n_neighbors=i)\n",
    "    model.fit(x_train,y_train)\n",
    "    pred=model.predict(x_test)\n",
    "    l.append(accuracy_score(pred,y_test))\n",
    "    \n",
    "\n"
   ]
  },
  {
   "cell_type": "code",
   "execution_count": 77,
   "id": "3f4f583a",
   "metadata": {},
   "outputs": [
    {
     "data": {
      "image/png": "[encoded data removed]",
      "text/plain": [
       "<Figure size 1440x504 with 1 Axes>"
      ]
     },
     "metadata": {
      "needs_background": "light"
     },
     "output_type": "display_data"
    }
   ],
   "source": [
    "plt.figure(figsize=(20,7))\n",
    "plt.bar(range(1,40),l)\n",
    "plt.ylim(0.65,0.8)\n",
    "plt.xticks(range(1,40))\n",
    "plt.show()"
   ]
  },
  {
   "cell_type": "markdown",
   "id": "109e173e",
   "metadata": {},
   "source": [
    "# DT"
   ]
  },
  {
   "cell_type": "code",
   "execution_count": 78,
   "id": "b94f0582",
   "metadata": {},
   "outputs": [
    {
     "name": "stdout",
     "output_type": "stream",
     "text": [
      "              precision    recall  f1-score   support\n",
      "\n",
      "       False       0.71      0.70      0.71       220\n",
      "        True       0.75      0.77      0.76       260\n",
      "\n",
      "    accuracy                           0.73       480\n",
      "   macro avg       0.73      0.73      0.73       480\n",
      "weighted avg       0.73      0.73      0.73       480\n",
      "\n"
     ]
    }
   ],
   "source": [
    "model=DecisionTreeClassifier()\n",
    "model.fit(x_train,y_train)\n",
    "pred=model.predict(x_test)\n",
    "print(classification_report(pred,y_test))\n",
    "\n"
   ]
  },
  {
   "cell_type": "code",
   "execution_count": 83,
   "id": "415880cc",
   "metadata": {},
   "outputs": [
    {
     "name": "stdout",
     "output_type": "stream",
     "text": [
      "              precision    recall  f1-score   support\n",
      "\n",
      "       False       0.80      0.78      0.79       218\n",
      "        True       0.82      0.84      0.83       262\n",
      "\n",
      "    accuracy                           0.81       480\n",
      "   macro avg       0.81      0.81      0.81       480\n",
      "weighted avg       0.81      0.81      0.81       480\n",
      "\n"
     ]
    }
   ],
   "source": [
    "model=RandomForestClassifier(n_estimators=200,  )\n",
    "model.fit(x_train,y_train)\n",
    "pred=model.predict(x_test)\n",
    "print(classification_report(pred,y_test))\n",
    "\n"
   ]
  },
  {
   "cell_type": "code",
   "execution_count": 84,
   "id": "f8d8724b",
   "metadata": {},
   "outputs": [
    {
     "name": "stdout",
     "output_type": "stream",
     "text": [
      "              precision    recall  f1-score   support\n",
      "\n",
      "       False       0.76      0.78      0.77       207\n",
      "        True       0.83      0.81      0.82       273\n",
      "\n",
      "    accuracy                           0.80       480\n",
      "   macro avg       0.79      0.80      0.79       480\n",
      "weighted avg       0.80      0.80      0.80       480\n",
      "\n"
     ]
    }
   ],
   "source": [
    "model=BaggingClassifier(n_estimators=200,  )\n",
    "model.fit(x_train,y_train)\n",
    "pred=model.predict(x_test)\n",
    "print(classification_report(pred,y_test))\n",
    "\n",
    "\n"
   ]
  },
  {
   "cell_type": "code",
   "execution_count": 89,
   "id": "745544ef",
   "metadata": {},
   "outputs": [
    {
     "name": "stdout",
     "output_type": "stream",
     "text": [
      "              precision    recall  f1-score   support\n",
      "\n",
      "       False       0.78      0.75      0.76       224\n",
      "        True       0.79      0.82      0.80       256\n",
      "\n",
      "    accuracy                           0.78       480\n",
      "   macro avg       0.78      0.78      0.78       480\n",
      "weighted avg       0.78      0.78      0.78       480\n",
      "\n"
     ]
    }
   ],
   "source": [
    "model=AdaBoostClassifier(n_estimators=200, learning_rate=0.05 )\n",
    "model.fit(x_train,y_train)\n",
    "pred=model.predict(x_test)\n",
    "print(classification_report(pred,y_test))\n",
    "\n",
    "\n"
   ]
  },
  {
   "cell_type": "code",
   "execution_count": null,
   "id": "8ecf0ab0",
   "metadata": {},
   "outputs": [],
   "source": []
  }
 ],
 "metadata": {
  "kernelspec": {
   "display_name": "Python 3 (ipykernel)",
   "language": "python",
   "name": "python3"
  },
  "language_info": {
   "codemirror_mode": {
    "name": "ipython",
    "version": 3
   },
   "file_extension": ".py",
   "mimetype": "text/x-python",
   "name": "python",
   "nbconvert_exporter": "python",
   "pygments_lexer": "ipython3",
   "version": "3.9.13"
  }
 },
 "nbformat": 4,
 "nbformat_minor": 5
}
